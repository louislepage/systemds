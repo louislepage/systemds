{
 "cells": [
  {
   "cell_type": "code",
   "execution_count": 1,
   "outputs": [],
   "source": [
    "import sklearn\n",
    "\n",
    "import shap"
   ],
   "metadata": {
    "collapsed": false,
    "ExecuteTime": {
     "end_time": "2024-04-28T10:06:59.488229Z",
     "start_time": "2024-04-28T10:06:57.863147Z"
    }
   },
   "id": "bea6fd941f44a604"
  },
  {
   "cell_type": "code",
   "execution_count": 4,
   "outputs": [
    {
     "data": {
      "text/plain": "        Age  Workclass  Education-Num  Marital Status  Occupation  \\\n0      39.0          7           13.0               4           1   \n1      50.0          6           13.0               2           4   \n2      38.0          4            9.0               0           6   \n3      53.0          4            7.0               2           6   \n4      28.0          4           13.0               2          10   \n...     ...        ...            ...             ...         ...   \n32556  27.0          4           12.0               2          13   \n32557  40.0          4            9.0               2           7   \n32558  58.0          4            9.0               6           1   \n32559  22.0          4            9.0               4           1   \n32560  52.0          5            9.0               2           4   \n\n       Relationship  Race  Sex  Capital Gain  Capital Loss  Hours per week  \\\n0                 0     4    1        2174.0           0.0            40.0   \n1                 4     4    1           0.0           0.0            13.0   \n2                 0     4    1           0.0           0.0            40.0   \n3                 4     2    1           0.0           0.0            40.0   \n4                 5     2    0           0.0           0.0            40.0   \n...             ...   ...  ...           ...           ...             ...   \n32556             5     4    0           0.0           0.0            38.0   \n32557             4     4    1           0.0           0.0            40.0   \n32558             1     4    0           0.0           0.0            40.0   \n32559             3     4    1           0.0           0.0            20.0   \n32560             5     4    0       15024.0           0.0            40.0   \n\n       Country  \n0           39  \n1           39  \n2           39  \n3           39  \n4            5  \n...        ...  \n32556       39  \n32557       39  \n32558       39  \n32559       39  \n32560       39  \n\n[32561 rows x 12 columns]",
      "text/html": "<div>\n<style scoped>\n    .dataframe tbody tr th:only-of-type {\n        vertical-align: middle;\n    }\n\n    .dataframe tbody tr th {\n        vertical-align: top;\n    }\n\n    .dataframe thead th {\n        text-align: right;\n    }\n</style>\n<table border=\"1\" class=\"dataframe\">\n  <thead>\n    <tr style=\"text-align: right;\">\n      <th></th>\n      <th>Age</th>\n      <th>Workclass</th>\n      <th>Education-Num</th>\n      <th>Marital Status</th>\n      <th>Occupation</th>\n      <th>Relationship</th>\n      <th>Race</th>\n      <th>Sex</th>\n      <th>Capital Gain</th>\n      <th>Capital Loss</th>\n      <th>Hours per week</th>\n      <th>Country</th>\n    </tr>\n  </thead>\n  <tbody>\n    <tr>\n      <th>0</th>\n      <td>39.0</td>\n      <td>7</td>\n      <td>13.0</td>\n      <td>4</td>\n      <td>1</td>\n      <td>0</td>\n      <td>4</td>\n      <td>1</td>\n      <td>2174.0</td>\n      <td>0.0</td>\n      <td>40.0</td>\n      <td>39</td>\n    </tr>\n    <tr>\n      <th>1</th>\n      <td>50.0</td>\n      <td>6</td>\n      <td>13.0</td>\n      <td>2</td>\n      <td>4</td>\n      <td>4</td>\n      <td>4</td>\n      <td>1</td>\n      <td>0.0</td>\n      <td>0.0</td>\n      <td>13.0</td>\n      <td>39</td>\n    </tr>\n    <tr>\n      <th>2</th>\n      <td>38.0</td>\n      <td>4</td>\n      <td>9.0</td>\n      <td>0</td>\n      <td>6</td>\n      <td>0</td>\n      <td>4</td>\n      <td>1</td>\n      <td>0.0</td>\n      <td>0.0</td>\n      <td>40.0</td>\n      <td>39</td>\n    </tr>\n    <tr>\n      <th>3</th>\n      <td>53.0</td>\n      <td>4</td>\n      <td>7.0</td>\n      <td>2</td>\n      <td>6</td>\n      <td>4</td>\n      <td>2</td>\n      <td>1</td>\n      <td>0.0</td>\n      <td>0.0</td>\n      <td>40.0</td>\n      <td>39</td>\n    </tr>\n    <tr>\n      <th>4</th>\n      <td>28.0</td>\n      <td>4</td>\n      <td>13.0</td>\n      <td>2</td>\n      <td>10</td>\n      <td>5</td>\n      <td>2</td>\n      <td>0</td>\n      <td>0.0</td>\n      <td>0.0</td>\n      <td>40.0</td>\n      <td>5</td>\n    </tr>\n    <tr>\n      <th>...</th>\n      <td>...</td>\n      <td>...</td>\n      <td>...</td>\n      <td>...</td>\n      <td>...</td>\n      <td>...</td>\n      <td>...</td>\n      <td>...</td>\n      <td>...</td>\n      <td>...</td>\n      <td>...</td>\n      <td>...</td>\n    </tr>\n    <tr>\n      <th>32556</th>\n      <td>27.0</td>\n      <td>4</td>\n      <td>12.0</td>\n      <td>2</td>\n      <td>13</td>\n      <td>5</td>\n      <td>4</td>\n      <td>0</td>\n      <td>0.0</td>\n      <td>0.0</td>\n      <td>38.0</td>\n      <td>39</td>\n    </tr>\n    <tr>\n      <th>32557</th>\n      <td>40.0</td>\n      <td>4</td>\n      <td>9.0</td>\n      <td>2</td>\n      <td>7</td>\n      <td>4</td>\n      <td>4</td>\n      <td>1</td>\n      <td>0.0</td>\n      <td>0.0</td>\n      <td>40.0</td>\n      <td>39</td>\n    </tr>\n    <tr>\n      <th>32558</th>\n      <td>58.0</td>\n      <td>4</td>\n      <td>9.0</td>\n      <td>6</td>\n      <td>1</td>\n      <td>1</td>\n      <td>4</td>\n      <td>0</td>\n      <td>0.0</td>\n      <td>0.0</td>\n      <td>40.0</td>\n      <td>39</td>\n    </tr>\n    <tr>\n      <th>32559</th>\n      <td>22.0</td>\n      <td>4</td>\n      <td>9.0</td>\n      <td>4</td>\n      <td>1</td>\n      <td>3</td>\n      <td>4</td>\n      <td>1</td>\n      <td>0.0</td>\n      <td>0.0</td>\n      <td>20.0</td>\n      <td>39</td>\n    </tr>\n    <tr>\n      <th>32560</th>\n      <td>52.0</td>\n      <td>5</td>\n      <td>9.0</td>\n      <td>2</td>\n      <td>4</td>\n      <td>5</td>\n      <td>4</td>\n      <td>0</td>\n      <td>15024.0</td>\n      <td>0.0</td>\n      <td>40.0</td>\n      <td>39</td>\n    </tr>\n  </tbody>\n</table>\n<p>32561 rows × 12 columns</p>\n</div>"
     },
     "execution_count": 4,
     "metadata": {},
     "output_type": "execute_result"
    }
   ],
   "source": [
    "X, y = shap.datasets.adult(display=False)\n",
    "X"
   ],
   "metadata": {
    "collapsed": false,
    "ExecuteTime": {
     "end_time": "2024-04-28T10:09:45.843441Z",
     "start_time": "2024-04-28T10:09:45.773943Z"
    }
   },
   "id": "a5299175cb67f7e6"
  }
 ],
 "metadata": {
  "kernelspec": {
   "display_name": "Python 3",
   "language": "python",
   "name": "python3"
  },
  "language_info": {
   "codemirror_mode": {
    "name": "ipython",
    "version": 2
   },
   "file_extension": ".py",
   "mimetype": "text/x-python",
   "name": "python",
   "nbconvert_exporter": "python",
   "pygments_lexer": "ipython2",
   "version": "2.7.6"
  }
 },
 "nbformat": 4,
 "nbformat_minor": 5
}
