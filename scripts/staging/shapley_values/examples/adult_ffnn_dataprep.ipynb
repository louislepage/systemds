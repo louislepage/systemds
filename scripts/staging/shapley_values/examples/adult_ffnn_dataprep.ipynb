{
 "cells": [
  {
   "cell_type": "code",
   "execution_count": 63,
   "id": "initial_id",
   "metadata": {
    "collapsed": true,
    "ExecuteTime": {
     "end_time": "2024-06-09T16:54:13.392146Z",
     "start_time": "2024-06-09T16:54:13.384225Z"
    }
   },
   "outputs": [],
   "source": [
    "import pandas as pd\n",
    "import numpy as np\n",
    "from sklearn.model_selection import train_test_split\n",
    "from sklearn.preprocessing import StandardScaler, OneHotEncoder\n",
    "from tensorflow.keras.models import Sequential\n",
    "from tensorflow.keras.layers import Input, Dense, Dropout\n",
    "from tensorflow.keras.optimizers import SGD\n",
    "from sklearn.model_selection import train_test_split\n",
    "from sklearn.metrics import mean_squared_error\n",
    "import pandas as pd\n",
    "import shap\n",
    "\n",
    "from joblib import dump"
   ]
  },
  {
   "cell_type": "code",
   "execution_count": 41,
   "outputs": [],
   "source": [
    "X = pd.read_csv(\"../data/adult/Adult_X.csv\", header=None).values\n",
    "y = pd.read_csv(\"../data/adult/Adult_y.csv\", header=None).values - 1"
   ],
   "metadata": {
    "collapsed": false,
    "ExecuteTime": {
     "end_time": "2024-06-09T15:32:47.458384Z",
     "start_time": "2024-06-09T15:32:47.064143Z"
    }
   },
   "id": "25010f3833d9e14a"
  },
  {
   "cell_type": "code",
   "execution_count": 42,
   "outputs": [
    {
     "data": {
      "text/plain": "array([[0.],\n       [0.],\n       [0.],\n       ...,\n       [0.],\n       [0.],\n       [1.]])"
     },
     "execution_count": 42,
     "metadata": {},
     "output_type": "execute_result"
    }
   ],
   "source": [
    "y"
   ],
   "metadata": {
    "collapsed": false,
    "ExecuteTime": {
     "end_time": "2024-06-09T15:32:48.118806Z",
     "start_time": "2024-06-09T15:32:48.112077Z"
    }
   },
   "id": "4b72c749d8a13137"
  },
  {
   "cell_type": "code",
   "execution_count": 43,
   "outputs": [],
   "source": [
    "X_train, X_test, y_train, y_test = train_test_split(\n",
    "    X, y, test_size=0.2, random_state=7\n",
    ")"
   ],
   "metadata": {
    "collapsed": false,
    "ExecuteTime": {
     "end_time": "2024-06-09T15:32:53.181511Z",
     "start_time": "2024-06-09T15:32:53.153337Z"
    }
   },
   "id": "ab8d8b25a2d3d651"
  },
  {
   "cell_type": "code",
   "execution_count": 60,
   "outputs": [],
   "source": [
    "def create_model(input_size, hidden_size, output_size, drop_out):\n",
    "    model = Sequential()\n",
    "    model.add(Input(shape=(input_size,)))\n",
    "    model.add(Dense(hidden_size, input_shape=(input_size,), activation='relu'))\n",
    "    model.add(Dropout(drop_out))\n",
    "    model.add(Dense(output_size, activation='sigmoid'))\n",
    "    return model"
   ],
   "metadata": {
    "collapsed": false,
    "ExecuteTime": {
     "end_time": "2024-06-09T16:51:16.239980Z",
     "start_time": "2024-06-09T16:51:16.233247Z"
    }
   },
   "id": "a017084f4f1605bb"
  },
  {
   "cell_type": "code",
   "execution_count": 61,
   "outputs": [],
   "source": [
    "#train\n",
    "# Configuration\n",
    "batch_size = 64\n",
    "learning_rate = 0.003\n",
    "epochs = 30\n",
    "hidden_size = 128\n",
    "drop_out = 0.35\n",
    "\n",
    "input_size = X_train.shape[1]\n",
    "output_size = 1  # Binary classification\n",
    "\n",
    "#setup \n",
    "model = create_model(input_size, hidden_size, output_size, drop_out)\n",
    "optimizer = SGD(learning_rate=learning_rate)\n",
    "model.compile(optimizer=optimizer, loss='mse', metrics=['accuracy'])"
   ],
   "metadata": {
    "collapsed": false,
    "ExecuteTime": {
     "end_time": "2024-06-09T16:51:16.781446Z",
     "start_time": "2024-06-09T16:51:16.764342Z"
    }
   },
   "id": "c20d31609e751dfb"
  },
  {
   "cell_type": "code",
   "execution_count": 62,
   "outputs": [
    {
     "name": "stdout",
     "output_type": "stream",
     "text": [
      "Epoch 1/30\n",
      "\u001B[1m407/407\u001B[0m \u001B[32m━━━━━━━━━━━━━━━━━━━━\u001B[0m\u001B[37m\u001B[0m \u001B[1m0s\u001B[0m 620us/step - accuracy: 0.5873 - loss: 0.2456 - val_accuracy: 0.7574 - val_loss: 0.1671\n",
      "Epoch 2/30\n",
      "\u001B[1m407/407\u001B[0m \u001B[32m━━━━━━━━━━━━━━━━━━━━\u001B[0m\u001B[37m\u001B[0m \u001B[1m0s\u001B[0m 469us/step - accuracy: 0.7527 - loss: 0.1728 - val_accuracy: 0.7757 - val_loss: 0.1514\n",
      "Epoch 3/30\n",
      "\u001B[1m407/407\u001B[0m \u001B[32m━━━━━━━━━━━━━━━━━━━━\u001B[0m\u001B[37m\u001B[0m \u001B[1m0s\u001B[0m 474us/step - accuracy: 0.7725 - loss: 0.1572 - val_accuracy: 0.7947 - val_loss: 0.1425\n",
      "Epoch 4/30\n",
      "\u001B[1m407/407\u001B[0m \u001B[32m━━━━━━━━━━━━━━━━━━━━\u001B[0m\u001B[37m\u001B[0m \u001B[1m0s\u001B[0m 579us/step - accuracy: 0.7876 - loss: 0.1497 - val_accuracy: 0.8056 - val_loss: 0.1362\n",
      "Epoch 5/30\n",
      "\u001B[1m407/407\u001B[0m \u001B[32m━━━━━━━━━━━━━━━━━━━━\u001B[0m\u001B[37m\u001B[0m \u001B[1m0s\u001B[0m 481us/step - accuracy: 0.7905 - loss: 0.1466 - val_accuracy: 0.8108 - val_loss: 0.1315\n",
      "Epoch 6/30\n",
      "\u001B[1m407/407\u001B[0m \u001B[32m━━━━━━━━━━━━━━━━━━━━\u001B[0m\u001B[37m\u001B[0m \u001B[1m0s\u001B[0m 522us/step - accuracy: 0.8058 - loss: 0.1369 - val_accuracy: 0.8179 - val_loss: 0.1280\n",
      "Epoch 7/30\n",
      "\u001B[1m407/407\u001B[0m \u001B[32m━━━━━━━━━━━━━━━━━━━━\u001B[0m\u001B[37m\u001B[0m \u001B[1m0s\u001B[0m 480us/step - accuracy: 0.8133 - loss: 0.1324 - val_accuracy: 0.8210 - val_loss: 0.1253\n",
      "Epoch 8/30\n",
      "\u001B[1m407/407\u001B[0m \u001B[32m━━━━━━━━━━━━━━━━━━━━\u001B[0m\u001B[37m\u001B[0m \u001B[1m0s\u001B[0m 467us/step - accuracy: 0.8093 - loss: 0.1343 - val_accuracy: 0.8251 - val_loss: 0.1232\n",
      "Epoch 9/30\n",
      "\u001B[1m407/407\u001B[0m \u001B[32m━━━━━━━━━━━━━━━━━━━━\u001B[0m\u001B[37m\u001B[0m \u001B[1m0s\u001B[0m 475us/step - accuracy: 0.8150 - loss: 0.1315 - val_accuracy: 0.8283 - val_loss: 0.1217\n",
      "Epoch 10/30\n",
      "\u001B[1m407/407\u001B[0m \u001B[32m━━━━━━━━━━━━━━━━━━━━\u001B[0m\u001B[37m\u001B[0m \u001B[1m0s\u001B[0m 584us/step - accuracy: 0.8182 - loss: 0.1295 - val_accuracy: 0.8294 - val_loss: 0.1203\n",
      "Epoch 11/30\n",
      "\u001B[1m407/407\u001B[0m \u001B[32m━━━━━━━━━━━━━━━━━━━━\u001B[0m\u001B[37m\u001B[0m \u001B[1m0s\u001B[0m 473us/step - accuracy: 0.8150 - loss: 0.1302 - val_accuracy: 0.8305 - val_loss: 0.1192\n",
      "Epoch 12/30\n",
      "\u001B[1m407/407\u001B[0m \u001B[32m━━━━━━━━━━━━━━━━━━━━\u001B[0m\u001B[37m\u001B[0m \u001B[1m0s\u001B[0m 511us/step - accuracy: 0.8227 - loss: 0.1266 - val_accuracy: 0.8317 - val_loss: 0.1183\n",
      "Epoch 13/30\n",
      "\u001B[1m407/407\u001B[0m \u001B[32m━━━━━━━━━━━━━━━━━━━━\u001B[0m\u001B[37m\u001B[0m \u001B[1m0s\u001B[0m 476us/step - accuracy: 0.8252 - loss: 0.1253 - val_accuracy: 0.8333 - val_loss: 0.1175\n",
      "Epoch 14/30\n",
      "\u001B[1m407/407\u001B[0m \u001B[32m━━━━━━━━━━━━━━━━━━━━\u001B[0m\u001B[37m\u001B[0m \u001B[1m0s\u001B[0m 453us/step - accuracy: 0.8227 - loss: 0.1266 - val_accuracy: 0.8331 - val_loss: 0.1168\n",
      "Epoch 15/30\n",
      "\u001B[1m407/407\u001B[0m \u001B[32m━━━━━━━━━━━━━━━━━━━━\u001B[0m\u001B[37m\u001B[0m \u001B[1m0s\u001B[0m 492us/step - accuracy: 0.8178 - loss: 0.1278 - val_accuracy: 0.8340 - val_loss: 0.1163\n",
      "Epoch 16/30\n",
      "\u001B[1m407/407\u001B[0m \u001B[32m━━━━━━━━━━━━━━━━━━━━\u001B[0m\u001B[37m\u001B[0m \u001B[1m0s\u001B[0m 473us/step - accuracy: 0.8203 - loss: 0.1237 - val_accuracy: 0.8343 - val_loss: 0.1157\n",
      "Epoch 17/30\n",
      "\u001B[1m407/407\u001B[0m \u001B[32m━━━━━━━━━━━━━━━━━━━━\u001B[0m\u001B[37m\u001B[0m \u001B[1m0s\u001B[0m 454us/step - accuracy: 0.8216 - loss: 0.1237 - val_accuracy: 0.8345 - val_loss: 0.1152\n",
      "Epoch 18/30\n",
      "\u001B[1m407/407\u001B[0m \u001B[32m━━━━━━━━━━━━━━━━━━━━\u001B[0m\u001B[37m\u001B[0m \u001B[1m0s\u001B[0m 460us/step - accuracy: 0.8234 - loss: 0.1244 - val_accuracy: 0.8349 - val_loss: 0.1149\n",
      "Epoch 19/30\n",
      "\u001B[1m407/407\u001B[0m \u001B[32m━━━━━━━━━━━━━━━━━━━━\u001B[0m\u001B[37m\u001B[0m \u001B[1m0s\u001B[0m 536us/step - accuracy: 0.8286 - loss: 0.1204 - val_accuracy: 0.8349 - val_loss: 0.1145\n",
      "Epoch 20/30\n",
      "\u001B[1m407/407\u001B[0m \u001B[32m━━━━━━━━━━━━━━━━━━━━\u001B[0m\u001B[37m\u001B[0m \u001B[1m0s\u001B[0m 505us/step - accuracy: 0.8267 - loss: 0.1217 - val_accuracy: 0.8354 - val_loss: 0.1141\n",
      "Epoch 21/30\n",
      "\u001B[1m407/407\u001B[0m \u001B[32m━━━━━━━━━━━━━━━━━━━━\u001B[0m\u001B[37m\u001B[0m \u001B[1m0s\u001B[0m 489us/step - accuracy: 0.8276 - loss: 0.1207 - val_accuracy: 0.8363 - val_loss: 0.1138\n",
      "Epoch 22/30\n",
      "\u001B[1m407/407\u001B[0m \u001B[32m━━━━━━━━━━━━━━━━━━━━\u001B[0m\u001B[37m\u001B[0m \u001B[1m0s\u001B[0m 473us/step - accuracy: 0.8282 - loss: 0.1207 - val_accuracy: 0.8369 - val_loss: 0.1135\n",
      "Epoch 23/30\n",
      "\u001B[1m407/407\u001B[0m \u001B[32m━━━━━━━━━━━━━━━━━━━━\u001B[0m\u001B[37m\u001B[0m \u001B[1m0s\u001B[0m 458us/step - accuracy: 0.8339 - loss: 0.1196 - val_accuracy: 0.8372 - val_loss: 0.1132\n",
      "Epoch 24/30\n",
      "\u001B[1m407/407\u001B[0m \u001B[32m━━━━━━━━━━━━━━━━━━━━\u001B[0m\u001B[37m\u001B[0m \u001B[1m0s\u001B[0m 468us/step - accuracy: 0.8286 - loss: 0.1202 - val_accuracy: 0.8376 - val_loss: 0.1130\n",
      "Epoch 25/30\n",
      "\u001B[1m407/407\u001B[0m \u001B[32m━━━━━━━━━━━━━━━━━━━━\u001B[0m\u001B[37m\u001B[0m \u001B[1m0s\u001B[0m 500us/step - accuracy: 0.8301 - loss: 0.1174 - val_accuracy: 0.8382 - val_loss: 0.1127\n",
      "Epoch 26/30\n",
      "\u001B[1m407/407\u001B[0m \u001B[32m━━━━━━━━━━━━━━━━━━━━\u001B[0m\u001B[37m\u001B[0m \u001B[1m0s\u001B[0m 462us/step - accuracy: 0.8287 - loss: 0.1193 - val_accuracy: 0.8382 - val_loss: 0.1126\n",
      "Epoch 27/30\n",
      "\u001B[1m407/407\u001B[0m \u001B[32m━━━━━━━━━━━━━━━━━━━━\u001B[0m\u001B[37m\u001B[0m \u001B[1m0s\u001B[0m 533us/step - accuracy: 0.8261 - loss: 0.1196 - val_accuracy: 0.8391 - val_loss: 0.1124\n",
      "Epoch 28/30\n",
      "\u001B[1m407/407\u001B[0m \u001B[32m━━━━━━━━━━━━━━━━━━━━\u001B[0m\u001B[37m\u001B[0m \u001B[1m0s\u001B[0m 470us/step - accuracy: 0.8289 - loss: 0.1196 - val_accuracy: 0.8389 - val_loss: 0.1122\n",
      "Epoch 29/30\n",
      "\u001B[1m407/407\u001B[0m \u001B[32m━━━━━━━━━━━━━━━━━━━━\u001B[0m\u001B[37m\u001B[0m \u001B[1m0s\u001B[0m 473us/step - accuracy: 0.8258 - loss: 0.1211 - val_accuracy: 0.8389 - val_loss: 0.1121\n",
      "Epoch 30/30\n",
      "\u001B[1m407/407\u001B[0m \u001B[32m━━━━━━━━━━━━━━━━━━━━\u001B[0m\u001B[37m\u001B[0m \u001B[1m0s\u001B[0m 475us/step - accuracy: 0.8282 - loss: 0.1191 - val_accuracy: 0.8388 - val_loss: 0.1119\n"
     ]
    },
    {
     "data": {
      "text/plain": "<keras.src.callbacks.history.History at 0x14002ad60>"
     },
     "execution_count": 62,
     "metadata": {},
     "output_type": "execute_result"
    }
   ],
   "source": [
    "# Training\n",
    "model.fit(X_train, y_train, epochs=epochs, batch_size=batch_size, validation_data=(X_test, y_test))"
   ],
   "metadata": {
    "collapsed": false,
    "ExecuteTime": {
     "end_time": "2024-06-09T16:51:24.216994Z",
     "start_time": "2024-06-09T16:51:17.734174Z"
    }
   },
   "id": "1dbc8d26bbd1e846"
  },
  {
   "cell_type": "code",
   "execution_count": 58,
   "outputs": [
    {
     "name": "stdout",
     "output_type": "stream",
     "text": [
      "\u001B[1m204/204\u001B[0m \u001B[32m━━━━━━━━━━━━━━━━━━━━\u001B[0m\u001B[37m\u001B[0m \u001B[1m0s\u001B[0m 266us/step\n"
     ]
    },
    {
     "data": {
      "text/plain": "array([[1.04956366e-01],\n       [4.77118194e-01],\n       [1.96697265e-01],\n       ...,\n       [2.01666146e-03],\n       [1.89153157e-04],\n       [3.57463777e-01]], dtype=float32)"
     },
     "execution_count": 58,
     "metadata": {},
     "output_type": "execute_result"
    }
   ],
   "source": [
    "p = model.predict(X_test, )\n",
    "p"
   ],
   "metadata": {
    "collapsed": false,
    "ExecuteTime": {
     "end_time": "2024-06-09T16:51:01.995980Z",
     "start_time": "2024-06-09T16:51:01.880827Z"
    }
   },
   "id": "dc5ec601bd3c8ebe"
  },
  {
   "cell_type": "code",
   "execution_count": 56,
   "outputs": [
    {
     "name": "stdout",
     "output_type": "stream",
     "text": [
      "\u001B[1m204/204\u001B[0m \u001B[32m━━━━━━━━━━━━━━━━━━━━\u001B[0m\u001B[37m\u001B[0m \u001B[1m0s\u001B[0m 290us/step - accuracy: 0.8426 - loss: 0.3391\n"
     ]
    },
    {
     "data": {
      "text/plain": "[0.3383628726005554, 0.8410870432853699]"
     },
     "execution_count": 56,
     "metadata": {},
     "output_type": "execute_result"
    }
   ],
   "source": [
    "model.evaluate(X_test, y_test)"
   ],
   "metadata": {
    "collapsed": false,
    "ExecuteTime": {
     "end_time": "2024-06-09T15:34:30.378497Z",
     "start_time": "2024-06-09T15:34:30.261903Z"
    }
   },
   "id": "889eefa6497c8366"
  },
  {
   "cell_type": "code",
   "execution_count": 64,
   "outputs": [
    {
     "data": {
      "text/plain": "['../data/adult/ffn.joblib']"
     },
     "execution_count": 64,
     "metadata": {},
     "output_type": "execute_result"
    }
   ],
   "source": [
    "dump(model, \"../data/adult/ffn.joblib\")"
   ],
   "metadata": {
    "collapsed": false,
    "ExecuteTime": {
     "end_time": "2024-06-09T16:54:20.418458Z",
     "start_time": "2024-06-09T16:54:20.370855Z"
    }
   },
   "id": "4a4291cc86810d82"
  },
  {
   "cell_type": "code",
   "execution_count": null,
   "outputs": [],
   "source": [],
   "metadata": {
    "collapsed": false
   },
   "id": "be3b6769b508ba7c"
  }
 ],
 "metadata": {
  "kernelspec": {
   "display_name": "Python 3",
   "language": "python",
   "name": "python3"
  },
  "language_info": {
   "codemirror_mode": {
    "name": "ipython",
    "version": 2
   },
   "file_extension": ".py",
   "mimetype": "text/x-python",
   "name": "python",
   "nbconvert_exporter": "python",
   "pygments_lexer": "ipython2",
   "version": "2.7.6"
  }
 },
 "nbformat": 4,
 "nbformat_minor": 5
}
