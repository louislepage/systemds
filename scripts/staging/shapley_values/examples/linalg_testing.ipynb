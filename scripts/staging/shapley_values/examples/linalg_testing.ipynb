{
 "cells": [
  {
   "cell_type": "markdown",
   "source": [
    "# test to understand lianlg"
   ],
   "metadata": {
    "collapsed": false
   },
   "id": "ed7e5f01e1b260af"
  },
  {
   "cell_type": "code",
   "execution_count": 1,
   "outputs": [],
   "source": [
    "import numpy as np"
   ],
   "metadata": {
    "collapsed": false,
    "ExecuteTime": {
     "end_time": "2024-02-16T07:13:32.461097Z",
     "start_time": "2024-02-16T07:13:32.385635Z"
    }
   },
   "id": "7baaf6f4271e4dbb"
  },
  {
   "cell_type": "code",
   "execution_count": null,
   "outputs": [],
   "source": [
    "a = n"
   ],
   "metadata": {
    "collapsed": false
   },
   "id": "98e7a99dbff3a86c"
  }
 ],
 "metadata": {
  "kernelspec": {
   "display_name": "Python 3",
   "language": "python",
   "name": "python3"
  },
  "language_info": {
   "codemirror_mode": {
    "name": "ipython",
    "version": 2
   },
   "file_extension": ".py",
   "mimetype": "text/x-python",
   "name": "python",
   "nbconvert_exporter": "python",
   "pygments_lexer": "ipython2",
   "version": "2.7.6"
  }
 },
 "nbformat": 4,
 "nbformat_minor": 5
}
